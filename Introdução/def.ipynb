{
 "cells": [
  {
   "cell_type": "code",
   "execution_count": null,
   "metadata": {},
   "outputs": [],
   "source": [
    "# Def --> função\n",
    "\n",
    "# Definindo função\n",
    "def func():\n",
    "    print(\"Teste\")\n",
    "\n",
    "# Chamada da função\n",
    "func()"
   ]
  },
  {
   "cell_type": "code",
   "execution_count": null,
   "metadata": {},
   "outputs": [],
   "source": [
    "# Parâmetros da função \n",
    "\n",
    "def test(x):\n",
    "    print(x)\n",
    "\n",
    "test(input(\"Escreva qualquer coisa: \"))\n"
   ]
  },
  {
   "cell_type": "code",
   "execution_count": null,
   "metadata": {},
   "outputs": [],
   "source": [
    "# return --> retorna o valor que será armazenado na função \n",
    "\n",
    "def func(x, y):\n",
    "    total = x + y\n",
    "    return total\n",
    "\n",
    "a = func(5, 7) # 'func()' foi armazenada dentro de 'a' e teve seus parâmetros como x = 5 e y = 7\n",
    "print(a)"
   ]
  },
  {
   "cell_type": "code",
   "execution_count": null,
   "metadata": {
    "notebookRunGroups": {
     "groupValue": ""
    }
   },
   "outputs": [],
   "source": [
    "# def func(*x) --> independente da quanntidades de entradas dadas a esse parâmetro todos serão armazenados em 'x' com uma tupla\n",
    "\n",
    "def func(*x):\n",
    "    print(x)\n",
    "\n",
    "func(2, 1, 7)\n",
    "func(2, 7, 8, 9)"
   ]
  },
  {
   "cell_type": "code",
   "execution_count": null,
   "metadata": {},
   "outputs": [],
   "source": [
    "# parâmetro como lista\n",
    "\n",
    "def func(lst): # função para dobrar os valores da lista\n",
    "    pos = 0\n",
    "    while pos < len(lst):\n",
    "        lst[pos] *= 2\n",
    "        pos += 1\n",
    "\n",
    "valores = [6, 3, 4, 5] # lista\n",
    "\n",
    "func(valores)\n",
    "print(valores)\n"
   ]
  },
  {
   "cell_type": "code",
   "execution_count": null,
   "metadata": {},
   "outputs": [],
   "source": [
    "# Função recursiva\n",
    "\n",
    "def FirstFactorial(num:int) -> int:\n",
    "  if num == 0:\n",
    "    return 1\n",
    "  return num * FirstFactorial(num - 1)\n",
    "\n",
    "print(FirstFactorial(int(input())))"
   ]
  },
  {
   "cell_type": "markdown",
   "metadata": {},
   "source": [
    "------\n",
    "### Exercícios\n",
    "------"
   ]
  },
  {
   "cell_type": "markdown",
   "metadata": {},
   "source": [
    "Faça um programa que tenha uma **função** chamada área(), que receba as dimenções de um terrenno retangular(_largura_ e _comrimento_) e a a **área do terreno**. \n",
    "<br>\n",
    "{  Exercício Python #096 - Função que calcula área - Curso Gustavo Guanabara }"
   ]
  },
  {
   "cell_type": "code",
   "execution_count": null,
   "metadata": {},
   "outputs": [],
   "source": [
    "# Solução:\n",
    "\n",
    "def area(largura, comprimento):\n",
    "    terreno = largura * comprimento\n",
    "    return terreno\n",
    "\n",
    "dim = area(float(input()), float(input()))\n",
    "print(dim)"
   ]
  }
 ],
 "metadata": {
  "kernelspec": {
   "display_name": "Python 3",
   "language": "python",
   "name": "python3"
  },
  "language_info": {
   "codemirror_mode": {
    "name": "ipython",
    "version": 3
   },
   "file_extension": ".py",
   "mimetype": "text/x-python",
   "name": "python",
   "nbconvert_exporter": "python",
   "pygments_lexer": "ipython3",
   "version": "3.10.11"
  },
  "orig_nbformat": 4
 },
 "nbformat": 4,
 "nbformat_minor": 2
}
