{
 "cells": [
  {
   "cell_type": "code",
   "execution_count": null,
   "metadata": {},
   "outputs": [],
   "source": [
    "# Incorreto: Retorna uma 'list' e não uma 'string'AssertionError\n",
    "\n",
    "def FirstReverse(strParam):\n",
    "\n",
    "  rev = list(reversed(strParam)) \n",
    "  return str(rev)\n",
    "\n",
    "# keep this function call here \n",
    "print(FirstReverse(input()))"
   ]
  },
  {
   "cell_type": "code",
   "execution_count": null,
   "metadata": {},
   "outputs": [],
   "source": [
    "# Usando laço de repetição 'for'\n",
    "def inverter(string):\n",
    "    saida = \"\"\n",
    "    for i in range(len(string)-1, -1, -1):\n",
    "        saida += string[i]\n",
    "    print(saida)\n",
    "\n",
    "inverter(\"teste\")\n"
   ]
  },
  {
   "cell_type": "code",
   "execution_count": 4,
   "metadata": {},
   "outputs": [
    {
     "data": {
      "text/plain": [
       "'etset'"
      ]
     },
     "execution_count": 4,
     "metadata": {},
     "output_type": "execute_result"
    }
   ],
   "source": [
    "#  Utlizando slice de inversão '[::-1]'\n",
    "def inverter(string):\n",
    "    return string[::-1]\n",
    "inverter(\"teste\")\n"
   ]
  }
 ],
 "metadata": {
  "kernelspec": {
   "display_name": "Python 3",
   "language": "python",
   "name": "python3"
  },
  "language_info": {
   "codemirror_mode": {
    "name": "ipython",
    "version": 3
   },
   "file_extension": ".py",
   "mimetype": "text/x-python",
   "name": "python",
   "nbconvert_exporter": "python",
   "pygments_lexer": "ipython3",
   "version": "3.10.11"
  },
  "orig_nbformat": 4
 },
 "nbformat": 4,
 "nbformat_minor": 2
}
