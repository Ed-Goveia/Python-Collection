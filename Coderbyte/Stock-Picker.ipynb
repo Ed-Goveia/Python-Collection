{
 "cells": [
  {
   "cell_type": "markdown",
   "metadata": {},
   "source": [
    "### Stock Picker\n",
    "\n",
    "Have the function StockPicker(arr) take the array of numbers stored in arr which will contain integers that represent the amount in dollars that a single stock is worth, and return the maximum profit that could have been made by buying stock on day x and selling stock on day y where y > x. For example: if arr is [44, 30, 24, 32, 35, 30, 40, 38, 15] then your program should return 16 because at index 2 the stock was worth $24 and at index 6 the stock was then worth $40, so if you bought the stock at 24 and sold it at 40, you would have made a profit of $16, which is the maximum profit that could have been made with this list of stock prices.\n",
    "\n",
    "If there is not profit that could have been made with the stock prices, then your program should return -1. For example: arr is [10, 9, 8, 2] then your program should return -1.\n",
    "\n",
    "![image.png](C:\\Users\\edmig\\Documents\\GitHub\\Python-Collection\\Source\\Stock_Picker.png)\n"
   ]
  },
  {
   "cell_type": "code",
   "execution_count": null,
   "metadata": {},
   "outputs": [],
   "source": [
    "# Solução por comparação\n",
    "\n",
    "def StockPicker(arr):\n",
    "    # Inicializa o preço mínimo como o primeiro elemento do array\n",
    "    minPrice = arr[0]\n",
    "\n",
    "    # Inicializa o lucro máximo como 0\n",
    "    maxProfit = 0\n",
    "\n",
    "    # Percorre o array a partir do segundo elemento\n",
    "    for i in range(1, len(arr)):\n",
    "        \n",
    "        # Atualiza o preço mínimo com o valor mínimo entre o preço mínimo atual e o elemento atual\n",
    "        minPrice = min(minPrice, arr[i])\n",
    "\n",
    "        # Calcula o lucro potencial subtraindo o preço mínimo do elemento atual\n",
    "        potentialProfit = arr[i] - minPrice\n",
    "\n",
    "        # Atualiza o lucro máximo com o valor máximo entre o lucro atual e o lucro potencial\n",
    "        maxProfit = max(maxProfit, potentialProfit)\n",
    "\n",
    "    # Verifica se houve lucro máximo. Se não houve, retorna -1\n",
    "    if maxProfit <= 0:\n",
    "        return -1\n",
    "    else:\n",
    "        # Retorna o lucro máximo\n",
    "        return maxProfit\n",
    "\n",
    "test_pos = [10,12,4,5,9] \n",
    "test_neg = [10, 9, 8, 2]\n",
    "\n",
    "print(StockPicker(test_pos))\n",
    "print(StockPicker(test_neg))"
   ]
  },
  {
   "cell_type": "code",
   "execution_count": null,
   "metadata": {},
   "outputs": [],
   "source": []
  }
 ],
 "metadata": {
  "kernelspec": {
   "display_name": "Python 3",
   "language": "python",
   "name": "python3"
  },
  "language_info": {
   "codemirror_mode": {
    "name": "ipython",
    "version": 3
   },
   "file_extension": ".py",
   "mimetype": "text/x-python",
   "name": "python",
   "nbconvert_exporter": "python",
   "pygments_lexer": "ipython3",
   "version": "3.10.11"
  },
  "orig_nbformat": 4
 },
 "nbformat": 4,
 "nbformat_minor": 2
}
