{
 "cells": [
  {
   "cell_type": "code",
   "execution_count": null,
   "metadata": {},
   "outputs": [],
   "source": [
    "# Solução por recursividade\n",
    "\n",
    "def FirstFactorial(num):\n",
    "    if num == 0: # caso base 0! = 1\n",
    "        return 1\n",
    "    else:\n",
    "        return num * FirstFactorial(num - 1)\n",
    "\n",
    "print(FirstFactorial(int(input())))"
   ]
  },
  {
   "cell_type": "code",
   "execution_count": null,
   "metadata": {},
   "outputs": [],
   "source": [
    "# Solução usando \"for\"\n",
    "\n",
    "def FirstFactorial(num): \n",
    "    product = 1\n",
    "    for i in range(1, num + 1): # Começa em 1 e terminar em \"num\", já que o loop termina um número antes, considerando o inicio padrão em zero.\n",
    "      product *= i # Multiplica e soma a 'i'\n",
    "\n",
    "    return product\n",
    "    \n",
    "print(FirstFactorial(int(input())))"
   ]
  },
  {
   "cell_type": "code",
   "execution_count": 11,
   "metadata": {},
   "outputs": [
    {
     "name": "stdout",
     "output_type": "stream",
     "text": [
      "1\n"
     ]
    }
   ],
   "source": [
    "# Solução usando 'while'\n",
    "\n",
    "\n",
    "def FirstFactorial(num):\n",
    "    estatic =  num\n",
    "    base = 1 # valor caso a  entrada seja 0, caso base\n",
    "\n",
    "    while estatic != 0: # condição para caso base\n",
    "        base = base * estatic\n",
    "        estatic = estatic - 1\n",
    "    return base\n",
    "\n",
    "print(FirstFactorial(int(input())))"
   ]
  }
 ],
 "metadata": {
  "kernelspec": {
   "display_name": "Python 3",
   "language": "python",
   "name": "python3"
  },
  "language_info": {
   "codemirror_mode": {
    "name": "ipython",
    "version": 3
   },
   "file_extension": ".py",
   "mimetype": "text/x-python",
   "name": "python",
   "nbconvert_exporter": "python",
   "pygments_lexer": "ipython3",
   "version": "3.10.11"
  },
  "orig_nbformat": 4
 },
 "nbformat": 4,
 "nbformat_minor": 2
}
