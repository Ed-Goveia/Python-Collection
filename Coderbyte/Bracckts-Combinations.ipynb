{
 "cells": [
  {
   "cell_type": "code",
   "execution_count": 3,
   "metadata": {},
   "outputs": [
    {
     "name": "stdout",
     "output_type": "stream",
     "text": [
      "14\n"
     ]
    }
   ],
   "source": [
    "def BracketCombinations(num):\n",
    "    # Função auxiliar recursiva para gerar as combinações de parênteses\n",
    "    def generate_combinations(n, open_count, close_count, current_combination, combinations):\n",
    "        # Caso base: todas as combinações foram geradas\n",
    "        if open_count == n and close_count == n:\n",
    "            combinations.append(current_combination)\n",
    "            return\n",
    "\n",
    "        # Se o número de parênteses abertos for menor que o número total de pares\n",
    "        if open_count < n:\n",
    "            generate_combinations(n, open_count + 1, close_count, current_combination + '(', combinations)\n",
    "\n",
    "        # Se o número de parênteses fechados for menor que o número total de pares\n",
    "        if close_count < open_count:\n",
    "            generate_combinations(n, open_count, close_count + 1, current_combination + ')', combinations)\n",
    "\n",
    "    # Lista para armazenar as combinações válidas\n",
    "    combinations = []\n",
    "\n",
    "    # Chama a função auxiliar para gerar as combinações\n",
    "    generate_combinations(num, 0, 0, '', combinations)\n",
    "\n",
    "    # Retorna o número de combinações válidas\n",
    "    return len(combinations)\n",
    "\n",
    "print(BracketCombinations(4))\n"
   ]
  },
  {
   "cell_type": "code",
   "execution_count": null,
   "metadata": {},
   "outputs": [],
   "source": [
    "var replacements = \n",
    "{\n",
    "  \"ab\" : \"c\",\n",
    "  \"ac\" : \"b\",\n",
    "  \"bc\" : \"a\",\n",
    "  \"ba\" : \"c\",\n",
    "  \"ca\" : \"b\",\n",
    "  \"cb\" : \"a\"\n",
    "};\n",
    "\n",
    "function StringReduction(s) \n",
    "{ \n",
    "  var original, key;\n",
    "  while( s != original )\n",
    "  {\n",
    "   original = s;\n",
    "   for( key in replacements )\n",
    "      s = s.replace( key , replacements[key] );\n",
    "  }\n",
    "  return s.length;\n",
    "}\n",
    "\n",
    "// keep this function call here \n",
    "// to see how to enter arguments in JavaScript scroll down\n",
    "StringReduction(readline());"
   ]
  }
 ],
 "metadata": {
  "kernelspec": {
   "display_name": "Python 3",
   "language": "python",
   "name": "python3"
  },
  "language_info": {
   "codemirror_mode": {
    "name": "ipython",
    "version": 3
   },
   "file_extension": ".py",
   "mimetype": "text/x-python",
   "name": "python",
   "nbconvert_exporter": "python",
   "pygments_lexer": "ipython3",
   "version": "3.10.11"
  },
  "orig_nbformat": 4
 },
 "nbformat": 4,
 "nbformat_minor": 2
}
